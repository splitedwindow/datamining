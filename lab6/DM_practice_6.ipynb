{
 "cells": [
  {
   "cell_type": "markdown",
   "metadata": {
    "id": "1i8adKFQS7E-"
   },
   "source": [
    "# **Лабораторна робота 6: Пошук аномалій та вирішення задачі *anomaly detection* за допомогою бібліотек `scikit-learn`та `PyTorch`**\n",
    "**Всі завдання виконуються індивідуально. Використання запозиченого коду буде оцінюватись в 0 балів.**\n",
    "\n",
    "**Лабораторні роботи де в коді буде використаня КИРИЛИЦІ будуть оцінюватись в 20 балів.**"
   ]
  },
  {
   "cell_type": "markdown",
   "metadata": {
    "id": "YvneQUbQRRqZ"
   },
   "source": [
    "### Мета роботи:\n",
    "Ознайомитися з основними методами виявлення аномалій, навчитися використовувати бібліотеки `scikit-learn` та `PyTorch` для реалізації алгоритмів пошуку аномалій, проаналізувати ефективність різних методів на реальних наборах даних з Kaggle.\n",
    "\n",
    "\n",
    "### Опис завдання:\n",
    "\n",
    "1. **Постановка задачі**:\n",
    "   Використовуючи один із доступних наборів даних Kaggle (наприклад, *Credit Card Fraud Detection*, *Network Intrusion*, або інші), вам потрібно розв'язати задачу виявлення аномалій. Основна мета — ідентифікувати аномальні записи серед нормальних. Вибраний набір даних повинен містити мітки аномалій для перевірки результатів.\n",
    "\n",
    "2. **Етапи виконання завдання**:\n",
    "   - Завантажте та підготуйте набір даних.\n",
    "   - Проведіть попередню обробку даних (масштабування, заповнення пропущених значень, видалення нерелевантних ознак).\n",
    "   - Використайте різні методи виявлення аномалій:\n",
    "     - **Методи з бібліотеки scikit-learn**:\n",
    "       - Isolation Forest\n",
    "       - One-Class SVM\n",
    "       - Local Outlier Factor (LOF)\n",
    "     - **Методи з використанням PyTorch**:\n",
    "       - Автоенкодери для виявлення аномалій.\n",
    "   - Порівняйте отримані результати, обчисліть метрики якості (Precision, Recall, F1-Score).\n",
    "   - Оцініть, який метод найкраще підходить для вирішення задачі на вашому наборі даних.\n",
    "\n",
    "### Покрокова інструкція\n",
    "\n",
    "1. **Підготовка середовища**:\n",
    "   - Встановіть необхідні бібліотеки:\n",
    "     ```\n",
    "     pip install scikit-learn torch pandas numpy matplotlib\n",
    "     ```\n",
    "\n",
    "2. **Вибір набору даних з Kaggle**:\n",
    "   Зареєструйтесь на Kaggle та оберіть один із наборів даних для виявлення аномалій. Наприклад:\n",
    "   - [Credit Card Fraud Detection](https://www.kaggle.com/mlg-ulb/creditcardfraud)\n",
    "   - [Network Intrusion Detection](https://www.kaggle.com/xyuanh/benchmarking-datasets)\n",
    "\n",
    "3. **Попередня обробка даних**:\n",
    "   - Завантажте дані та проведіть їхню початкову обробку.\n",
    "   - Масштабуйте ознаки за допомогою `StandardScaler` або `MinMaxScaler`.\n",
    "   - Розділіть дані на навчальну і тестову вибірки.\n",
    "\n",
    "4. **Методи з бібліотеки `scikit-learn`**:\n",
    "\n",
    "   - **Isolation Forest**:\n",
    "     ```\n",
    "     from sklearn.ensemble import IsolationForest\n",
    "     ```\n",
    "\n",
    "   - **One-Class SVM**:\n",
    "     ```\n",
    "     from sklearn.svm import OneClassSVM\n",
    "     ```\n",
    "\n",
    "   - **Local Outlier Factor**:\n",
    "     ```\n",
    "     from sklearn.neighbors import LocalOutlierFactor\n",
    "     ```\n",
    "\n",
    "5. **Методи на основі нейронних мереж (PyTorch)**:\n",
    "\n",
    "   Використайте автоенкодер для пошуку аномалій. Побудуйте нейронну мережу з енкодером і декодером. Під час навчання порівняйте відновлені дані з вхідними та обчисліть помилку. Записи з великою помилкою можуть бути аномаліями.\n",
    "\n",
    "   - **Реалізація автоенкодера**:\n",
    "     ```\n",
    "     import torch\n",
    "     import torch.nn as nn\n",
    "     import torch.optim as optim\n",
    "     ```\n",
    "\n",
    "6. **Оцінка результатів**:\n",
    "   Використовуйте метрики оцінки якості:\n",
    "   - `Precision`, `Recall`, `F1-score`\n",
    "   ```\n",
    "   from sklearn.metrics import classification_report\n",
    "   ```\n",
    "\n",
    "7. **Звіт**:\n",
    "   - Поясніть, який метод дав найкращі результати.\n",
    "   - Проаналізуйте, чому деякі методи працюють краще на вашому наборі даних.\n",
    "   - Оцініть можливості використання глибоких нейронних мереж (автоенкодерів) для вирішення задачі.\n",
    "\n",
    "\n",
    "### Результати, які необхідно надати:\n",
    "1. Код рішення у вигляді Jupyter Notebook з аналізом результатів та поясненнями.\n",
    "\n",
    "\n",
    "### Корисні ресурси:\n",
    "- [Документація PyTorch](https://pytorch.org/docs/stable/index.html)\n",
    "- [Документація scikit-learn](https://scikit-learn.org/stable/documentation.html)\n",
    "- [Kaggle Datasets](https://www.kaggle.com/datasets)"
   ]
  },
  {
   "cell_type": "markdown",
   "metadata": {},
   "source": [
    "## Data processing"
   ]
  },
  {
   "cell_type": "code",
   "execution_count": 5,
   "metadata": {
    "id": "NeqgMqm2UETO"
   },
   "outputs": [],
   "source": [
    "import pandas as pd\n",
    "from sklearn.model_selection import train_test_split\n",
    "from sklearn.preprocessing import StandardScaler, MinMaxScaler\n",
    "import numpy as np\n",
    "from sklearn.metrics import classification_report\n",
    "\n",
    "data = pd.read_csv('creditcard.csv')\n",
    "\n",
    "data = data.dropna()\n",
    "\n",
    "X = data.drop(columns=['Class'])\n",
    "y = data['Class']\n",
    "\n",
    "scaler = StandardScaler()\n",
    "X_scaled = scaler.fit_transform(X)\n",
    "\n",
    "X_train, X_test, y_train, y_test = train_test_split(X_scaled, y, test_size=0.2, random_state=99)"
   ]
  },
  {
   "cell_type": "markdown",
   "metadata": {},
   "source": [
    "## Methods from library scikit-learn"
   ]
  },
  {
   "cell_type": "markdown",
   "metadata": {},
   "source": [
    "#### Isolation forest"
   ]
  },
  {
   "cell_type": "code",
   "execution_count": 8,
   "metadata": {},
   "outputs": [
    {
     "name": "stdout",
     "output_type": "stream",
     "text": [
      "Anomalies in the training set: 22785\n",
      "Anomalies in the test set: 5780\n",
      "Classification report for training set:\n",
      "              precision    recall  f1-score   support\n",
      "\n",
      "           0       1.00      0.90      0.95    227455\n",
      "           1       0.01      0.86      0.03       390\n",
      "\n",
      "    accuracy                           0.90    227845\n",
      "   macro avg       0.51      0.88      0.49    227845\n",
      "weighted avg       1.00      0.90      0.95    227845\n",
      "\n",
      "Classification report for test set:\n",
      "              precision    recall  f1-score   support\n",
      "\n",
      "           0       1.00      0.90      0.95     56860\n",
      "           1       0.02      0.92      0.03       102\n",
      "\n",
      "    accuracy                           0.90     56962\n",
      "   macro avg       0.51      0.91      0.49     56962\n",
      "weighted avg       1.00      0.90      0.95     56962\n",
      "\n"
     ]
    }
   ],
   "source": [
    "from sklearn.ensemble import IsolationForest\n",
    "from sklearn.svm import OneClassSVM\n",
    "from sklearn.neighbors import LocalOutlierFactor\n",
    "\n",
    "iso_forest = IsolationForest(contamination=0.1, random_state=99)\n",
    "iso_forest.fit(X_train)\n",
    "\n",
    "train_iso_pred = iso_forest.predict(X_train)\n",
    "test_iso_pred = iso_forest.predict(X_test)\n",
    "\n",
    "\n",
    "train_iso_anom = np.where(train_iso_pred == -1, 1, 0)\n",
    "test_iso_anom = np.where(test_iso_pred == -1, 1, 0)\n",
    "\n",
    "print(f\"Anomalies in the training set: {np.sum(train_iso_anom)}\")\n",
    "print(f\"Anomalies in the test set: {np.sum(test_iso_anom)}\")\n",
    "\n",
    "print(\"Classification report for training set:\")\n",
    "print(classification_report(y_train, train_iso_anom))\n",
    "\n",
    "print(\"Classification report for test set:\")\n",
    "print(classification_report(y_test, test_iso_anom))"
   ]
  },
  {
   "cell_type": "markdown",
   "metadata": {},
   "source": [
    "#### One-class SVM"
   ]
  },
  {
   "cell_type": "code",
   "execution_count": 31,
   "metadata": {},
   "outputs": [
    {
     "name": "stdout",
     "output_type": "stream",
     "text": [
      "Anomalies in the training set: 45088\n",
      "              precision    recall  f1-score   support\n",
      "\n",
      "           0       1.00      0.90      0.95     56860\n",
      "           1       0.02      0.93      0.03       102\n",
      "\n",
      "    accuracy                           0.90     56962\n",
      "   macro avg       0.51      0.91      0.49     56962\n",
      "weighted avg       1.00      0.90      0.94     56962\n",
      "\n",
      "Anomalies in the training set: 22800\n",
      "              precision    recall  f1-score   support\n",
      "\n",
      "           0       1.00      0.90      0.95    227455\n",
      "           1       0.02      0.90      0.03       390\n",
      "\n",
      "    accuracy                           0.90    227845\n",
      "   macro avg       0.51      0.90      0.49    227845\n",
      "weighted avg       1.00      0.90      0.95    227845\n",
      "\n"
     ]
    }
   ],
   "source": [
    "one_class_svm = OneClassSVM(nu=0.1, kernel='rbf', gamma=0.1)\n",
    "one_class_svm.fit(X_train)\n",
    "\n",
    "train_svm_pred = one_class_svm.predict(X_train)\n",
    "test_svm_pred = one_class_svm.predict(X_test)\n",
    "\n",
    "train_svm_anom = np.where(train_svm_pred == -1, 1, 0)\n",
    "test_svm_anom = np.where(test_svm_pred == -1, 1, 0)\n",
    "\n",
    "print(f\"Anomalies in the training set: {np.sum(test_svm_pred)}\") # should ouput testing set\n",
    "print(classification_report(y_test, test_svm_anom))\n",
    "print(f\"Anomalies in the training set: {np.sum(train_svm_anom)}\")\n",
    "print(classification_report(y_train, train_svm_anom))"
   ]
  },
  {
   "cell_type": "markdown",
   "metadata": {},
   "source": [
    "#### Local outlier factory"
   ]
  },
  {
   "cell_type": "code",
   "execution_count": 32,
   "metadata": {},
   "outputs": [
    {
     "name": "stdout",
     "output_type": "stream",
     "text": [
      "Anomalies in the training set: 22785\n",
      "Anomalies in the test set: 5697\n",
      "Classification report for training set:\n",
      "              precision    recall  f1-score   support\n",
      "\n",
      "           0       1.00      0.90      0.95    227455\n",
      "           1       0.00      0.16      0.01       390\n",
      "\n",
      "    accuracy                           0.90    227845\n",
      "   macro avg       0.50      0.53      0.48    227845\n",
      "weighted avg       1.00      0.90      0.95    227845\n",
      "\n",
      "Classification report for test set:\n",
      "              precision    recall  f1-score   support\n",
      "\n",
      "           0       1.00      0.90      0.95     56860\n",
      "           1       0.00      0.21      0.01       102\n",
      "\n",
      "    accuracy                           0.90     56962\n",
      "   macro avg       0.50      0.55      0.48     56962\n",
      "weighted avg       1.00      0.90      0.95     56962\n",
      "\n"
     ]
    }
   ],
   "source": [
    "lof = LocalOutlierFactor(n_neighbors=20, contamination=0.1, n_jobs=-1)\n",
    "outliers_lof = lof.fit_predict(X_train)\n",
    "\n",
    "train_lof_anom = np.where(outliers_lof == -1, 1, 0)\n",
    "\n",
    "test_lof_pred = lof.fit_predict(X_test)\n",
    "test_lof_anom = np.where(test_lof_pred == -1, 1, 0)\n",
    "\n",
    "print(f\"Anomalies in the training set: {np.sum(train_lof_anom)}\")\n",
    "print(f\"Anomalies in the test set: {np.sum(test_lof_anom)}\")\n",
    "\n",
    "print(\"Classification report for training set:\")\n",
    "print(classification_report(y_train, train_lof_anom))\n",
    "\n",
    "print(\"Classification report for train set:\") # should be train, just can't reload the model will take\n",
    "                                                # too much time\n",
    "print(classification_report(y_test, test_lof_anom))"
   ]
  },
  {
   "cell_type": "markdown",
   "metadata": {},
   "source": [
    "## PyTorch"
   ]
  },
  {
   "cell_type": "code",
   "execution_count": 7,
   "metadata": {},
   "outputs": [
    {
     "name": "stdout",
     "output_type": "stream",
     "text": [
      "Epoch 1/100, Loss: 0.2518\n",
      "Epoch 2/100, Loss: 0.0928\n",
      "Epoch 3/100, Loss: 0.0677\n",
      "Epoch 4/100, Loss: 0.0578\n",
      "Epoch 5/100, Loss: 0.0509\n",
      "Epoch 6/100, Loss: 0.0457\n",
      "Epoch 7/100, Loss: 0.0440\n",
      "Epoch 8/100, Loss: 0.0414\n",
      "Epoch 9/100, Loss: 0.0400\n",
      "Epoch 10/100, Loss: 0.0381\n",
      "Epoch 11/100, Loss: 0.0373\n",
      "Epoch 12/100, Loss: 0.0362\n",
      "Epoch 13/100, Loss: 0.0380\n",
      "Epoch 14/100, Loss: 0.0345\n",
      "Epoch 15/100, Loss: 0.0338\n",
      "Epoch 16/100, Loss: 0.0327\n",
      "Epoch 17/100, Loss: 0.0332\n",
      "Epoch 18/100, Loss: 0.0309\n",
      "Epoch 19/100, Loss: 0.0316\n",
      "Epoch 20/100, Loss: 0.0307\n",
      "Epoch 21/100, Loss: 0.0327\n",
      "Epoch 22/100, Loss: 0.0313\n",
      "Epoch 23/100, Loss: 0.0308\n",
      "Epoch 24/100, Loss: 0.0309\n",
      "Epoch 25/100, Loss: 0.0292\n",
      "Epoch 26/100, Loss: 0.0299\n",
      "Epoch 27/100, Loss: 0.0293\n",
      "Epoch 28/100, Loss: 0.0300\n",
      "Epoch 29/100, Loss: 0.0294\n",
      "Epoch 30/100, Loss: 0.0283\n",
      "Epoch 31/100, Loss: 0.0272\n",
      "Epoch 32/100, Loss: 0.0281\n",
      "Epoch 33/100, Loss: 0.0262\n",
      "Epoch 34/100, Loss: 0.0267\n",
      "Epoch 35/100, Loss: 0.0277\n",
      "Epoch 36/100, Loss: 0.0257\n",
      "Epoch 37/100, Loss: 0.0253\n",
      "Epoch 38/100, Loss: 0.0256\n",
      "Epoch 39/100, Loss: 0.0253\n",
      "Epoch 40/100, Loss: 0.0244\n",
      "Epoch 41/100, Loss: 0.0256\n",
      "Epoch 42/100, Loss: 0.0244\n",
      "Epoch 43/100, Loss: 0.0242\n",
      "Epoch 44/100, Loss: 0.0242\n",
      "Epoch 45/100, Loss: 0.0232\n",
      "Epoch 46/100, Loss: 0.0248\n",
      "Epoch 47/100, Loss: 0.0232\n",
      "Epoch 48/100, Loss: 0.0257\n",
      "Epoch 49/100, Loss: 0.0228\n",
      "Epoch 50/100, Loss: 0.0236\n",
      "Epoch 51/100, Loss: 0.0238\n",
      "Epoch 52/100, Loss: 0.0224\n",
      "Epoch 53/100, Loss: 0.0233\n",
      "Epoch 54/100, Loss: 0.0227\n",
      "Epoch 55/100, Loss: 0.0224\n",
      "Epoch 56/100, Loss: 0.0228\n",
      "Epoch 57/100, Loss: 0.0228\n",
      "Epoch 58/100, Loss: 0.0232\n",
      "Epoch 59/100, Loss: 0.0223\n",
      "Epoch 60/100, Loss: 0.0224\n",
      "Epoch 61/100, Loss: 0.0223\n",
      "Epoch 62/100, Loss: 0.0215\n",
      "Epoch 63/100, Loss: 0.0216\n",
      "Epoch 64/100, Loss: 0.0215\n",
      "Epoch 65/100, Loss: 0.0217\n",
      "Epoch 66/100, Loss: 0.0212\n",
      "Epoch 67/100, Loss: 0.0216\n",
      "Epoch 68/100, Loss: 0.0213\n",
      "Epoch 69/100, Loss: 0.0212\n",
      "Epoch 70/100, Loss: 0.0210\n",
      "Epoch 71/100, Loss: 0.0211\n",
      "Epoch 72/100, Loss: 0.0220\n",
      "Epoch 73/100, Loss: 0.0212\n",
      "Epoch 74/100, Loss: 0.0210\n",
      "Epoch 75/100, Loss: 0.0218\n",
      "Epoch 76/100, Loss: 0.0208\n",
      "Epoch 77/100, Loss: 0.0209\n",
      "Epoch 78/100, Loss: 0.0200\n",
      "Epoch 79/100, Loss: 0.0204\n",
      "Epoch 80/100, Loss: 0.0203\n",
      "Epoch 81/100, Loss: 0.0201\n",
      "Epoch 82/100, Loss: 0.0201\n",
      "Epoch 83/100, Loss: 0.0209\n",
      "Epoch 84/100, Loss: 0.0200\n",
      "Epoch 85/100, Loss: 0.0193\n",
      "Epoch 86/100, Loss: 0.0196\n",
      "Epoch 87/100, Loss: 0.0190\n",
      "Epoch 88/100, Loss: 0.0210\n",
      "Epoch 89/100, Loss: 0.0191\n",
      "Epoch 90/100, Loss: 0.0218\n",
      "Epoch 91/100, Loss: 0.0199\n",
      "Epoch 92/100, Loss: 0.0202\n",
      "Epoch 93/100, Loss: 0.0196\n",
      "Epoch 94/100, Loss: 0.0189\n",
      "Epoch 95/100, Loss: 0.0189\n",
      "Epoch 96/100, Loss: 0.0197\n",
      "Epoch 97/100, Loss: 0.0205\n",
      "Epoch 98/100, Loss: 0.0191\n",
      "Epoch 99/100, Loss: 0.0194\n",
      "Epoch 100/100, Loss: 0.0192\n"
     ]
    }
   ],
   "source": [
    "import torch\n",
    "import torch.nn as nn\n",
    "import torch.optim as optim\n",
    "from torch.utils.data import DataLoader, TensorDataset\n",
    "\n",
    "class Autoencoder(nn.Module):\n",
    "    def __init__(self, input_dim):\n",
    "        super(Autoencoder, self).__init__()\n",
    "\n",
    "        \n",
    "        self.encoder = nn.Sequential( \n",
    "            nn.Linear(input_dim, 64),\n",
    "            nn.ReLU(),\n",
    "            nn.Linear(64, 32),\n",
    "            nn.ReLU(),\n",
    "            nn.Linear(32, 16)\n",
    "        )\n",
    "\n",
    "        \n",
    "        self.decoder = nn.Sequential(\n",
    "            nn.Linear(16, 32),\n",
    "            nn.ReLU(),\n",
    "            nn.Linear(32, 64),\n",
    "            nn.ReLU(),\n",
    "            nn.Linear(64, input_dim)\n",
    "        )\n",
    "\n",
    "    def forward(self, x):\n",
    "        encoded = self.encoder(x)\n",
    "        decoded = self.decoder(encoded)\n",
    "        return decoded\n",
    "\n",
    "input_dim = X_train.shape[1]\n",
    "X_train_tensor = torch.FloatTensor(X_train)\n",
    "\n",
    "train_loader = DataLoader(TensorDataset(X_train_tensor), batch_size=32, shuffle=True)\n",
    "\n",
    "patience = 10  \n",
    "best_loss = np.inf\n",
    "epochs_without_improvement = 0\n",
    "\n",
    "model = Autoencoder(input_dim=input_dim)\n",
    "criterion = nn.MSELoss()\n",
    "optimizer = optim.Adam(model.parameters(), lr=0.001)\n",
    "\n",
    "num_epochs = 100\n",
    "for epoch in range(num_epochs):\n",
    "    total_loss = 0\n",
    "    model.train()\n",
    "    for data_load in train_loader:\n",
    "        inputs = data_load[0] \n",
    "        optimizer.zero_grad()\n",
    "        outputs = model(inputs)\n",
    "        loss = criterion(outputs, inputs)\n",
    "        loss.backward()\n",
    "        optimizer.step()\n",
    "        total_loss += loss.item()\n",
    "\n",
    "    avg_loss = total_loss / len(train_loader)\n",
    "    print(f'Epoch {epoch+1}/{num_epochs}, Loss: {avg_loss:.4f}')\n",
    "\n",
    "    # Check for improvement\n",
    "    if avg_loss < best_loss:\n",
    "        best_loss = avg_loss\n",
    "        epochs_without_improvement = 0\n",
    "    else:\n",
    "        epochs_without_improvement += 1\n",
    "\n",
    "    # Early stopping\n",
    "    if epochs_without_improvement >= patience:\n",
    "        print(f'Early stopping at epoch {epoch+1}')\n",
    "        break\n",
    "\n",
    "model.eval()\n",
    "\n",
    "with torch.no_grad():\n",
    "    reconstructed = model(X_train_tensor)\n",
    "    reconstruction_error = torch.mean((X_train_tensor - reconstructed) ** 2, dim=1)\n",
    "    \n",
    "threshold = 0.1\n",
    "anomalies = reconstruction_error > threshold\n",
    "\n",
    "y_pred = anomalies.numpy()"
   ]
  },
  {
   "cell_type": "code",
   "execution_count": 8,
   "metadata": {
    "scrolled": true
   },
   "outputs": [
    {
     "name": "stdout",
     "output_type": "stream",
     "text": [
      "Detected 6922 anomalies out of 227845 samples.\n",
      "              precision    recall  f1-score   support\n",
      "\n",
      "           0       1.00      0.97      0.99    227455\n",
      "           1       0.04      0.76      0.08       390\n",
      "\n",
      "    accuracy                           0.97    227845\n",
      "   macro avg       0.52      0.86      0.53    227845\n",
      "weighted avg       1.00      0.97      0.98    227845\n",
      "\n"
     ]
    }
   ],
   "source": [
    "y_true = y_train.values\n",
    "print(f\"Detected {anomalies.sum().item()} anomalies out of {X_train_tensor.shape[0]} samples.\")\n",
    "print(classification_report(y_true, y_pred))"
   ]
  },
  {
   "cell_type": "markdown",
   "metadata": {},
   "source": [
    "# Analysis"
   ]
  },
  {
   "cell_type": "markdown",
   "metadata": {},
   "source": [
    "Let's analyse the received data. Keep in mind that there was no fine-tuning and the models are in a kind of a \"raw\" state speaking of the performance."
   ]
  },
  {
   "cell_type": "markdown",
   "metadata": {},
   "source": [
    "Isolation forest has f1 score of 0.03, which is very low. In current case recall=0.86 which considering the precision of 0.01 is very bad."
   ]
  },
  {
   "cell_type": "markdown",
   "metadata": {},
   "source": [
    "One-class SVM has f1 score 0.03 as well, but recall is 0.93, that's something at least..."
   ]
  },
  {
   "cell_type": "markdown",
   "metadata": {},
   "source": [
    "Local outlier factory f1=0.01 the worst between all."
   ]
  },
  {
   "cell_type": "markdown",
   "metadata": {},
   "source": [
    "Pytorch autocoder has f1=0.08 which is almost 3 times better than second-best model, recall 0.76 which is seems not much, but considering that it's not guessing not as often and with a bit higher accuracy makes it the WINNER in the lab6!!🎉🎉🎉🎉🎉🎉🎉🎉"
   ]
  }
 ],
 "metadata": {
  "colab": {
   "provenance": []
  },
  "kernelspec": {
   "display_name": "Python 3 (ipykernel)",
   "language": "python",
   "name": "python3"
  },
  "language_info": {
   "codemirror_mode": {
    "name": "ipython",
    "version": 3
   },
   "file_extension": ".py",
   "mimetype": "text/x-python",
   "name": "python",
   "nbconvert_exporter": "python",
   "pygments_lexer": "ipython3",
   "version": "3.10.2"
  }
 },
 "nbformat": 4,
 "nbformat_minor": 1
}
