{
 "cells": [
  {
   "cell_type": "markdown",
   "metadata": {
    "id": "mOA9MOth2oPN"
   },
   "source": [
    "# **Лабораторна робота 5: Використання Boosting моделей для прогнозування**\n",
    "**Всі завдання виконуються індивідуально. Використання запозиченого коду буде оцінюватись в 0 балів.**\n",
    "\n",
    "**Лабораторні роботи де в коді буде використаня КИРИЛИЦІ будуть оцінюватись в 20 балів.**"
   ]
  },
  {
   "cell_type": "markdown",
   "metadata": {
    "id": "dldF036z3ojM"
   },
   "source": [
    "#### **Мета роботи:**\n",
    "Ознайомитись з принципами роботи Boosting моделей, навчитися застосовувати три різні Boosting алгоритми (AdaBoost, Gradient Boosting, XGBoost) для розв'язання задач прогнозування, налаштовувати параметри моделей, зокрема параметри регуляризації, для підвищення їх продуктивності.\n",
    "\n",
    "#### **Завдання:**\n",
    "\n",
    "1. **Підготовка даних**:\n",
    "   - Завантажте та підготуйте датасет для регресії або класифікації: (наприклад, **[дані про ціни на житло](https://)** або **[діабет](https://www.kaggle.com/datasets/pkdarabi/diabetes-dataset-with-18-features)**). Розбийте дані на навчальну та тестову вибірки (наприклад, 80/20).\n",
    "   \n",
    "2. **Побудова трьох Boosting моделей**:\n",
    "   - **AdaBoost**: Побудуйте модель на базі дерев рішень як базових моделей.\n",
    "   - **Gradient Boosting**: Використайте бібліотеку Scikit-learn для створення Gradient Boosting моделі для прогнозування.\n",
    "   - **XGBoost**: Використайте бібліотеку XGBoost для побудови більш оптимізованої моделі.\n",
    "\n",
    "3. **Навчання та оцінка моделей**:\n",
    "   - Для кожної моделі виведіть метрики оцінки, такі як точність (classification accuracy) або середньоквадратична помилка (MSE) для регресії.\n",
    "   - Побудуйте графіки навчання для візуалізації процесу.\n",
    "\n",
    "4. **Тонке налаштування параметрів (Hyperparameter Tuning)**:\n",
    "   - Для кожної моделі налаштуйте наступні параметри:\n",
    "     - **AdaBoost**: Кількість базових моделей (n_estimators), learning_rate.\n",
    "     - **Gradient Boosting**: Максимальна глибина дерев (max_depth), кількість дерев (n_estimators), learning_rate.\n",
    "     - **XGBoost**: Кількість дерев (n_estimators), learning_rate, max_depth, subsample.\n",
    "   - Використайте крос-валідацію для підбору оптимальних параметрів.\n",
    "\n",
    "5. **Регуляризація**:\n",
    "   - Додайте **L1 та L2 регуляризацію** для Gradient Boosting та XGBoost моделей (в XGBoost параметри `alpha` для L1 та `lambda` для L2).\n",
    "   - Виведіть результати з регуляризацією і порівняйте з результатами без регуляризації.\n",
    "\n",
    "6. **Порівняння моделей**:\n",
    "   - Проведіть порівняння трьох моделей за основними метриками продуктивності на тестових даних.\n",
    "   - Проаналізуйте, як регуляризація впливає на результати моделей. В яких випадках вона покращує модель, а в яких — погіршує.\n",
    "\n",
    "7. **Захист роботи**:\n",
    "   - Поясніть, яку модель і чому ви вважаєте найкращою для вирішення вашої задачі.\n",
    "   - Опишіть, як впливала регуляризація на продуктивність моделей, та що б ви змінили в параметрах для кращого результату.\n",
    "\n",
    "#### **Додаткові вимоги:**\n",
    "- Забезпечити відображення важливості ознак у кожній з моделей (feature importance).\n",
    "- Побудувати графіки для візуалізації залежності продуктивності від зміни гіперпараметрів (наприклад, залежність від кількості дерев або learning_rate).\n",
    "\n",
    "\n",
    "#### **Додаткові набори даних:**\n",
    "\n",
    "1. **Diabetes Dataset** — містить медичні дані пацієнтів, які можуть бути використані для прогнозування наявності діабету. Він доступний за посиланням: [Diabetes Dataset](https://www.kaggle.com/datasets/mathchi/diabetes-data-set).\n",
    "\n",
    "2. **Diabetes Health Indicators Dataset** — великий датасет з понад 250 тисячами записів, який містить індикатори здоров'я для визначення ризику діабету. Підходить для класифікаційних задач. Доступний за посиланням: [Diabetes Health Indicators Dataset](https://www.kaggle.com/datasets/alexteboul/diabetes-health-indicators-dataset).\n",
    "\n",
    "3. **California Housing Prices** — датасет, що містить інформацію про ціни на житло у різних округах штату Каліфорнія, включаючи такі параметри, як середній дохід домогосподарств, кількість мешканців тощо. Він добре підходить для регресійних моделей. Доступний за посиланням: [California Housing Prices](https://www.kaggle.com/datasets/camnugent/california-housing-prices).\n",
    "\n",
    "4. **House Prices - Advanced Regression Techniques** — більш комплексний датасет, який використовується для вдосконалення регресійних моделей. Включає більше 70 ознак, що описують різні аспекти нерухомості, ідеальний для глибокого аналізу та тонкого налаштування моделей. Доступний тут: [House Prices - Advanced Regression Techniques](https://www.kaggle.com/c/house-prices-advanced-regression-techniques).\n",
    "\n",
    "Ці набори даних ви також можете використовувати для виконання завдань Лабораторної роботи 5."
   ]
  },
  {
   "cell_type": "code",
   "execution_count": 61,
   "metadata": {
    "id": "JMM1ar4a2lz8"
   },
   "outputs": [],
   "source": [
    "import pandas as pd\n",
    "from sklearn.model_selection import train_test_split\n",
    "\n",
    "data = pd.read_csv('diabetes.csv')\n",
    "X = data[['Age', 'Gender', 'BMI', 'SBP', 'DBP', 'FPG', 'Chol', 'Tri', 'HDL', 'LDL', 'ALT', 'BUN', 'CCR', 'FFPG', 'smoking', 'drinking', 'family_histroy']]\n",
    "y = data['Diabetes']\n",
    "\n",
    "X_train, X_test, y_train, y_test = train_test_split(X, y, test_size=0.2, random_state=42)"
   ]
  },
  {
   "cell_type": "code",
   "execution_count": 62,
   "metadata": {},
   "outputs": [
    {
     "name": "stdout",
     "output_type": "stream",
     "text": [
      "Accuracy AdaBoost: 0.9186991869918699\n"
     ]
    }
   ],
   "source": [
    "from sklearn.ensemble import AdaBoostClassifier\n",
    "from sklearn.metrics import accuracy_score\n",
    "\n",
    "model_ada = AdaBoostClassifier(n_estimators=100, learning_rate=0.1, algorithm='SAMME', random_state=42)\n",
    "model_ada.fit(X_train, y_train)\n",
    "y_pred_ada = model_ada.predict(X_test)\n",
    "print('Accuracy AdaBoost:', accuracy_score(y_test, y_pred_ada))"
   ]
  },
  {
   "cell_type": "code",
   "execution_count": 63,
   "metadata": {},
   "outputs": [
    {
     "name": "stdout",
     "output_type": "stream",
     "text": [
      "Accuracy Gradient Boosting: 0.9442508710801394\n"
     ]
    }
   ],
   "source": [
    "from sklearn.ensemble import GradientBoostingClassifier\n",
    "\n",
    "model_gb = GradientBoostingClassifier(n_estimators=100, max_depth=3, learning_rate=0.1, random_state=42)\n",
    "model_gb.fit(X_train, y_train)\n",
    "y_pred_gb = model_gb.predict(X_test)\n",
    "print('Accuracy Gradient Boosting:', accuracy_score(y_test, y_pred_gb))"
   ]
  },
  {
   "cell_type": "code",
   "execution_count": 64,
   "metadata": {},
   "outputs": [
    {
     "name": "stdout",
     "output_type": "stream",
     "text": [
      "Accuracy XGBoost: 0.9454123112659698\n"
     ]
    }
   ],
   "source": [
    "from xgboost import XGBClassifier\n",
    "\n",
    "model_xgb = XGBClassifier(n_estimators=100, max_depth=3, learning_rate=0.1, subsample=0.8, reg_alpha=0.1, reg_lambda=1, random_state=42)\n",
    "model_xgb.fit(X_train, y_train)\n",
    "y_pred_xgb = model_xgb.predict(X_test)\n",
    "print('Accuracy XGBoost:', accuracy_score(y_test, y_pred_xgb))"
   ]
  },
  {
   "cell_type": "code",
   "execution_count": 65,
   "metadata": {
    "scrolled": true
   },
   "outputs": [
    {
     "data": {
      "image/png": "[encoded data removed]",
      "text/plain": [
       "<Figure size 432x288 with 1 Axes>"
      ]
     },
     "metadata": {
      "needs_background": "light"
     },
     "output_type": "display_data"
    }
   ],
   "source": [
    "import matplotlib.pyplot as plt\n",
    "from sklearn.metrics import mean_squared_error\n",
    "\n",
    "train_errors = []\n",
    "test_errors = []\n",
    "\n",
    "for i in range(1, 30):\n",
    "    model_gb = GradientBoostingClassifier(n_estimators=i, learning_rate=0.1)\n",
    "    model_gb.fit(X_train, y_train)\n",
    "    train_errors.append(mean_squared_error(y_train, model_gb.predict(X_train)))\n",
    "    test_errors.append(mean_squared_error(y_test, model_gb.predict(X_test)))\n",
    "\n",
    "plt.plot(range(1, 30), train_errors, label='Training Error')\n",
    "plt.plot(range(1, 30), test_errors, label='Test Error')\n",
    "plt.legend()\n",
    "plt.xlabel('Number of trees')\n",
    "plt.ylabel('Mean squared error')\n",
    "plt.show()"
   ]
  },
  {
   "cell_type": "markdown",
   "metadata": {},
   "source": [
    "## Hypertunning"
   ]
  },
  {
   "cell_type": "markdown",
   "metadata": {},
   "source": [
    "### step 1"
   ]
  },
  {
   "cell_type": "code",
   "execution_count": 66,
   "metadata": {
    "scrolled": false
   },
   "outputs": [
    {
     "name": "stdout",
     "output_type": "stream",
     "text": [
      "Best Parameters: {'learning_rate': 0.01, 'max_depth': 3, 'n_estimators': 150}\n"
     ]
    }
   ],
   "source": [
    "from sklearn.model_selection import GridSearchCV\n",
    "\n",
    "param_grid = {\n",
    "    'n_estimators': [50, 100, 150],\n",
    "    'max_depth': [3, 5, 7],\n",
    "    'learning_rate': [0.01, 0.1, 0.2]\n",
    "}\n",
    "\n",
    "grid_search = GridSearchCV(GradientBoostingClassifier(), param_grid, cv=5, n_jobs=-1)\n",
    "grid_search.fit(X_train, y_train)\n",
    "print('Best Parameters:', grid_search.best_params_)"
   ]
  },
  {
   "cell_type": "markdown",
   "metadata": {},
   "source": [
    "#### test accuracy"
   ]
  },
  {
   "cell_type": "code",
   "execution_count": 67,
   "metadata": {},
   "outputs": [
    {
     "name": "stdout",
     "output_type": "stream",
     "text": [
      "Accuracy (XGBoost with Regularization): 0.943089430894309\n"
     ]
    }
   ],
   "source": [
    "model_xgb_reg = XGBClassifier(\n",
    "    n_estimators=150, \n",
    "    learning_rate=0.01, \n",
    "    max_depth=3, \n",
    "    reg_alpha=0.1,  # L1\n",
    "    reg_lambda=1.0,  # L2\n",
    "    random_state=42\n",
    ")\n",
    "\n",
    "model_xgb_reg.fit(X_train, y_train)\n",
    "\n",
    "y_pred_xgb_reg = model_xgb_reg.predict(X_test)\n",
    "from sklearn.metrics import accuracy_score\n",
    "print('Accuracy (XGBoost with Regularization):', accuracy_score(y_test, y_pred_xgb_reg))"
   ]
  },
  {
   "cell_type": "markdown",
   "metadata": {},
   "source": [
    "### step 2"
   ]
  },
  {
   "cell_type": "code",
   "execution_count": 68,
   "metadata": {},
   "outputs": [
    {
     "name": "stdout",
     "output_type": "stream",
     "text": [
      "Best Parameters: {'learning_rate': 0.01, 'max_depth': 3, 'n_estimators': 200}\n"
     ]
    }
   ],
   "source": [
    "from sklearn.model_selection import GridSearchCV\n",
    "\n",
    "param_grid = {\n",
    "    'n_estimators': [125, 150, 200, 250],\n",
    "    'max_depth': [2, 3, 4, 5],\n",
    "    'learning_rate': [0.005, 0.01, 0.05]\n",
    "}\n",
    "\n",
    "grid_search = GridSearchCV(GradientBoostingClassifier(), param_grid, cv=5, n_jobs=-1)\n",
    "grid_search.fit(X_train, y_train)\n",
    "print('Best Parameters:', grid_search.best_params_)"
   ]
  },
  {
   "cell_type": "markdown",
   "metadata": {},
   "source": [
    "### step 3"
   ]
  },
  {
   "cell_type": "code",
   "execution_count": 69,
   "metadata": {},
   "outputs": [
    {
     "name": "stdout",
     "output_type": "stream",
     "text": [
      "Best Parameters: {'learning_rate': 0.01, 'max_depth': 3, 'n_estimators': 190}\n"
     ]
    }
   ],
   "source": [
    "from sklearn.model_selection import GridSearchCV\n",
    "\n",
    "param_grid = {\n",
    "    'n_estimators': [125, 130, 190, 200, 210],\n",
    "    'max_depth': [3, 10],\n",
    "    'learning_rate': [0.01, 0.02, 0.04]\n",
    "}\n",
    "\n",
    "grid_search = GridSearchCV(GradientBoostingClassifier(), param_grid, cv=5, n_jobs=-1)\n",
    "grid_search.fit(X_train, y_train)\n",
    "print('Best Parameters:', grid_search.best_params_)"
   ]
  },
  {
   "cell_type": "markdown",
   "metadata": {},
   "source": [
    "### step 4"
   ]
  },
  {
   "cell_type": "code",
   "execution_count": 70,
   "metadata": {},
   "outputs": [
    {
     "name": "stdout",
     "output_type": "stream",
     "text": [
      "Best Parameters: {'learning_rate': 0.009, 'max_depth': 4, 'n_estimators': 180}\n"
     ]
    }
   ],
   "source": [
    "from sklearn.model_selection import GridSearchCV\n",
    "\n",
    "param_grid = {\n",
    "    'n_estimators': [180, 185, 190, 195],\n",
    "    'max_depth': [3, 4, 5],\n",
    "    'learning_rate': [0.009, 0.01, 0.011, 0.012]\n",
    "}\n",
    "\n",
    "grid_search = GridSearchCV(GradientBoostingClassifier(), param_grid, cv=5, n_jobs=-1)\n",
    "grid_search.fit(X_train, y_train)\n",
    "print('Best Parameters:', grid_search.best_params_)"
   ]
  },
  {
   "cell_type": "markdown",
   "metadata": {},
   "source": [
    "#### test\n"
   ]
  },
  {
   "cell_type": "code",
   "execution_count": 71,
   "metadata": {},
   "outputs": [
    {
     "name": "stdout",
     "output_type": "stream",
     "text": [
      "Accuracy (XGBoost with Regularization): 0.943089430894309\n"
     ]
    }
   ],
   "source": [
    "model_xgb_reg = XGBClassifier(\n",
    "    n_estimators=180, \n",
    "    learning_rate=0.009, \n",
    "    max_depth=34, \n",
    "    reg_alpha=0.1,  # L1\n",
    "    reg_lambda=1.0,  # L2\n",
    "    random_state=42\n",
    ")\n",
    "\n",
    "model_xgb_reg.fit(X_train, y_train)\n",
    "\n",
    "y_pred_xgb_reg = model_xgb_reg.predict(X_test)\n",
    "from sklearn.metrics import accuracy_score\n",
    "print('Accuracy (XGBoost with Regularization):', accuracy_score(y_test, y_pred_xgb_reg))"
   ]
  },
  {
   "cell_type": "markdown",
   "metadata": {},
   "source": [
    "### L1 and L2"
   ]
  },
  {
   "cell_type": "code",
   "execution_count": 72,
   "metadata": {},
   "outputs": [
    {
     "name": "stdout",
     "output_type": "stream",
     "text": [
      "Accuracy (XGBoost with Regularization): 0.9419279907084785\n"
     ]
    }
   ],
   "source": [
    "model_xgb_reg = XGBClassifier(\n",
    "    n_estimators=180, \n",
    "    learning_rate=0.009, \n",
    "    max_depth=4, \n",
    "    reg_alpha=0.2,  # L1\n",
    "    reg_lambda=2.0,  # L2\n",
    "    random_state=42\n",
    ")\n",
    "\n",
    "model_xgb_reg.fit(X_train, y_train)\n",
    "\n",
    "y_pred_xgb_reg = model_xgb_reg.predict(X_test)\n",
    "from sklearn.metrics import accuracy_score\n",
    "print('Accuracy (XGBoost with Regularization):', accuracy_score(y_test, y_pred_xgb_reg))"
   ]
  },
  {
   "cell_type": "code",
   "execution_count": 73,
   "metadata": {},
   "outputs": [
    {
     "name": "stdout",
     "output_type": "stream",
     "text": [
      "Accuracy (XGBoost with Regularization): 0.943089430894309\n"
     ]
    }
   ],
   "source": [
    "model_xgb_reg = XGBClassifier(\n",
    "    n_estimators=180, \n",
    "    learning_rate=0.009, \n",
    "    max_depth=4, \n",
    "    reg_alpha=0.5,  # L1\n",
    "    reg_lambda=1.5,  # L2\n",
    "    random_state=42\n",
    ")\n",
    "\n",
    "model_xgb_reg.fit(X_train, y_train)\n",
    "\n",
    "y_pred_xgb_reg = model_xgb_reg.predict(X_test)\n",
    "from sklearn.metrics import accuracy_score\n",
    "print('Accuracy (XGBoost with Regularization):', accuracy_score(y_test, y_pred_xgb_reg))"
   ]
  },
  {
   "cell_type": "code",
   "execution_count": 74,
   "metadata": {},
   "outputs": [
    {
     "name": "stdout",
     "output_type": "stream",
     "text": [
      "Accuracy (XGBoost with Regularization): 0.943089430894309\n"
     ]
    }
   ],
   "source": [
    "model_xgb_reg = XGBClassifier(\n",
    "    n_estimators=180, \n",
    "    learning_rate=0.009, \n",
    "    max_depth=4, \n",
    "    reg_alpha=0.1,  # L1\n",
    "    reg_lambda=1.5,  # L2\n",
    "    random_state=42\n",
    ")\n",
    "\n",
    "model_xgb_reg.fit(X_train, y_train)\n",
    "\n",
    "y_pred_xgb_reg = model_xgb_reg.predict(X_test)\n",
    "from sklearn.metrics import accuracy_score\n",
    "print('Accuracy (XGBoost with Regularization):', accuracy_score(y_test, y_pred_xgb_reg))"
   ]
  },
  {
   "cell_type": "code",
   "execution_count": 75,
   "metadata": {},
   "outputs": [
    {
     "name": "stdout",
     "output_type": "stream",
     "text": [
      "Accuracy (XGBoost with Regularization): 0.943089430894309\n"
     ]
    }
   ],
   "source": [
    "model_xgb_reg = XGBClassifier(\n",
    "    n_estimators=180, \n",
    "    learning_rate=0.009, \n",
    "    max_depth=4, \n",
    "    reg_alpha=0.1,  # L1\n",
    "    reg_lambda=1.3,  # L2\n",
    "    random_state=42\n",
    ")\n",
    "\n",
    "model_xgb_reg.fit(X_train, y_train)\n",
    "\n",
    "y_pred_xgb_reg = model_xgb_reg.predict(X_test)\n",
    "from sklearn.metrics import accuracy_score\n",
    "print('Accuracy (XGBoost with Regularization):', accuracy_score(y_test, y_pred_xgb_reg))"
   ]
  },
  {
   "cell_type": "code",
   "execution_count": 76,
   "metadata": {},
   "outputs": [
    {
     "name": "stdout",
     "output_type": "stream",
     "text": [
      "Accuracy (XGBoost with Regularization): 0.9419279907084785\n"
     ]
    }
   ],
   "source": [
    "model_xgb_reg = XGBClassifier(\n",
    "    n_estimators=180, \n",
    "    learning_rate=0.009, \n",
    "    max_depth=4, \n",
    "    reg_alpha=0.1,  # L1\n",
    "    reg_lambda=5,  # L2\n",
    "    random_state=42\n",
    ")\n",
    "\n",
    "model_xgb_reg.fit(X_train, y_train)\n",
    "\n",
    "y_pred_xgb_reg = model_xgb_reg.predict(X_test)\n",
    "from sklearn.metrics import accuracy_score\n",
    "print('Accuracy (XGBoost with Regularization):', accuracy_score(y_test, y_pred_xgb_reg))"
   ]
  },
  {
   "cell_type": "code",
   "execution_count": 77,
   "metadata": {},
   "outputs": [
    {
     "name": "stdout",
     "output_type": "stream",
     "text": [
      "Accuracy (XGBoost with Regularization): 0.9419279907084785\n"
     ]
    }
   ],
   "source": [
    "model_xgb_reg = XGBClassifier(\n",
    "    n_estimators=180, \n",
    "    learning_rate=0.009, \n",
    "    max_depth=4, \n",
    "    reg_alpha=0.8,  # L1\n",
    "    reg_lambda=1.3,  # L2\n",
    "    random_state=42\n",
    ")\n",
    "\n",
    "model_xgb_reg.fit(X_train, y_train)\n",
    "\n",
    "y_pred_xgb_reg = model_xgb_reg.predict(X_test)\n",
    "from sklearn.metrics import accuracy_score\n",
    "print('Accuracy (XGBoost with Regularization):', accuracy_score(y_test, y_pred_xgb_reg))"
   ]
  },
  {
   "cell_type": "markdown",
   "metadata": {},
   "source": [
    "XGBoost:         0.9454, XGBoost(with R): 0.9419. The difference is lesss than 1%.\n",
    "\n",
    "Based on this data I can say that with regularization it's arguably slightly worse. Having tried different values for alfa and lambda can confidently say that in current case regularization does NOT improve accuracy of the model."
   ]
  },
  {
   "cell_type": "code",
   "execution_count": 78,
   "metadata": {},
   "outputs": [
    {
     "name": "stdout",
     "output_type": "stream",
     "text": [
      "AdaBoost performance metrics:\n",
      "Accuracy: 0.9187\n",
      "Precision: 1.0000\n",
      "Recall: 0.7046\n",
      "F1-Score: 0.8267\n",
      "\n",
      "Gradient boosting performance petrics:\n",
      "accuracy: 0.9443\n",
      "precision: 0.9479\n",
      "recall: 0.8439\n",
      "F1-score: 0.8929\n",
      "\n",
      "XGBoost performance metrics:\n",
      "Accuracy: 0.9454\n",
      "Precision: 0.9524\n",
      "Recall: 0.8439\n",
      "F1-score: 0.8949\n",
      "\n",
      "XGBoost with regularization performance metrics:\n",
      "Accuracy: 0.9419\n",
      "Precision: 0.9431\n",
      "Recall: 0.8397\n",
      "F1-Score: 0.8884\n"
     ]
    }
   ],
   "source": [
    "from sklearn.metrics import precision_score, recall_score, f1_score\n",
    "\n",
    "print(\"AdaBoost performance metrics:\")\n",
    "accuracy_ada = accuracy_score(y_test, y_pred_ada)\n",
    "precision_ada = precision_score(y_test, y_pred_ada)\n",
    "recall_ada = recall_score(y_test, y_pred_ada)\n",
    "f1_ada = f1_score(y_test, y_pred_ada)\n",
    "\n",
    "print(f\"Accuracy: {accuracy_ada:.4f}\")\n",
    "print(f\"Precision: {precision_ada:.4f}\")\n",
    "print(f\"Recall: {recall_ada:.4f}\")\n",
    "print(f\"F1-Score: {f1_ada:.4f}\")\n",
    "print()\n",
    "\n",
    "print(\"Gradient boosting performance petrics:\")\n",
    "accuracy_gb = accuracy_score(y_test, y_pred_gb)\n",
    "precision_gb = precision_score(y_test, y_pred_gb)\n",
    "recall_gb = recall_score(y_test, y_pred_gb)\n",
    "f1_gb = f1_score(y_test, y_pred_gb)\n",
    "\n",
    "print(f\"accuracy: {accuracy_gb:.4f}\")\n",
    "print(f\"precision: {precision_gb:.4f}\")\n",
    "print(f\"recall: {recall_gb:.4f}\")\n",
    "print(f\"F1-score: {f1_gb:.4f}\")\n",
    "print()\n",
    "\n",
    "print(\"XGBoost performance metrics:\")\n",
    "accuracy_xgb = accuracy_score(y_test, y_pred_xgb)\n",
    "precision_xgb = precision_score(y_test, y_pred_xgb)\n",
    "recall_xgb = recall_score(y_test, y_pred_xgb)\n",
    "f1_xgb = f1_score(y_test, y_pred_xgb)\n",
    "\n",
    "print(f\"Accuracy: {accuracy_xgb:.4f}\")\n",
    "print(f\"Precision: {precision_xgb:.4f}\")\n",
    "print(f\"Recall: {recall_xgb:.4f}\")\n",
    "print(f\"F1-score: {f1_xgb:.4f}\")\n",
    "print()\n",
    "\n",
    "print(\"XGBoost with regularization performance metrics:\")\n",
    "accuracy_xgb_reg = accuracy_score(y_test, y_pred_xgb_reg)\n",
    "precision_xgb_reg = precision_score(y_test, y_pred_xgb_reg)\n",
    "recall_xgb_reg = recall_score(y_test, y_pred_xgb_reg)\n",
    "f1_xgb_reg = f1_score(y_test, y_pred_xgb_reg)\n",
    "\n",
    "print(f\"Accuracy: {accuracy_xgb_reg:.4f}\")\n",
    "print(f\"Precision: {precision_xgb_reg:.4f}\")\n",
    "print(f\"Recall: {recall_xgb_reg:.4f}\")\n",
    "print(f\"F1-Score: {f1_xgb_reg:.4f}\")\n"
   ]
  },
  {
   "cell_type": "markdown",
   "metadata": {},
   "source": [
    "Taking to the account the fact that it's the medical field, and it's more important not to miss any patiants having diabetes I say AdaBoost has the best performing model with perfect 1.0 score. Even thought it's accuracy is the lowest between all, I think it's better to double check someone who doesn't have the problem than miss one. In current situation is focusing on the mistakes through iterations of creating the AdaBoost model resulted in the best percision result."
   ]
  }
 ],
 "metadata": {
  "colab": {
   "provenance": []
  },
  "kernelspec": {
   "display_name": "Python 3 (ipykernel)",
   "language": "python",
   "name": "python3"
  },
  "language_info": {
   "codemirror_mode": {
    "name": "ipython",
    "version": 3
   },
   "file_extension": ".py",
   "mimetype": "text/x-python",
   "name": "python",
   "nbconvert_exporter": "python",
   "pygments_lexer": "ipython3",
   "version": "3.10.2"
  }
 },
 "nbformat": 4,
 "nbformat_minor": 1
}
